{
 "cells": [
  {
   "cell_type": "code",
   "execution_count": 1,
   "metadata": {
    "collapsed": true
   },
   "outputs": [
    {
     "name": "stdout",
     "output_type": "stream",
     "text": [
      "setu_database/かにビーム/EpL0kvLUYAEVxS_.jpg\n",
      "setu_database/かにビーム/DzJ4CF-VsAA9ofB.jpg\n",
      "setu_database/かにビーム/EkZly2_U0AEN8yt.jpg\n",
      "setu_database/かにビーム/Ea_BvzhUEAENKB4.jpg\n",
      "setu_database/かにビーム/四ツ川省ちゃんfeat.リングフィットアドベンチャー_79800490_p0.jpg\n",
      "setu_database/かにビーム/「おかしくれなきゃ！」「いたずらしちゃうし」_59554400_p0.jpg\n",
      "setu_database/かにビーム/DzJ3-03VYAAnK54.jpg\n",
      "setu_database/かにビーム/resize_image.php.jpg\n",
      "setu_database/かにビーム/__shimotsuki_potofu_hazuki_watora_and_minazuki_sarami_original_drawn_by_kani_biimu__0510617a6586046f959bcf1d73c27df7.png\n",
      "setu_database/かにビーム/EiR6T46VgAA33Vr.jpg\n",
      "setu_database/かにビーム/__hazuki_watora_original_drawn_by_kani_biimu__7257c4749ee740109a11938257dff89d.jpg\n",
      "setu_database/かにビーム/El2RqOyVgAAWgdW.jpg\n",
      "setu_database/かにビーム/EdvGqVmVoAA-YJh.jpg\n",
      "setu_database/かにビーム/yande.re 614137 animal_ears breast_hold chibi garter kokkoro luminocity nekomimi pantsu peco pecorine princess_connect stockings tail thighhighs.jpg\n",
      "setu_database/かにビーム/EZOJ3IXU0AEVeg4.jpg\n",
      "setu_database/かにビーム/57589255_p0.jpg\n",
      "setu_database/かにビーム/アイカツ！まとめ_62693234_p0.jpg\n",
      "setu_database/かにビーム/ポトワトサラミB2タペストリー_58607887_p0.jpg\n",
      "setu_database/かにビーム/DzJ4AJ1UcAArwFS.jpg\n"
     ]
    }
   ],
   "source": [
    "import os\n",
    "file_root = os.walk(\"setu_database\")\n",
    "pics = []\n",
    "for path, dir_list, file_list in file_root:\n",
    "    for file_name in file_list:\n",
    "        # print(os.path.join(path,file_name))\n",
    "        pics.append(os.path.join(path, file_name))"
   ]
  }
 ],
 "metadata": {
  "kernelspec": {
   "name": "pycharm-f6d9f65c",
   "language": "python",
   "display_name": "PyCharm (2020-11-16)"
  },
  "language_info": {
   "codemirror_mode": {
    "name": "ipython",
    "version": 2
   },
   "file_extension": ".py",
   "mimetype": "text/x-python",
   "name": "python",
   "nbconvert_exporter": "python",
   "pygments_lexer": "ipython2",
   "version": "2.7.6"
  }
 },
 "nbformat": 4,
 "nbformat_minor": 0
}